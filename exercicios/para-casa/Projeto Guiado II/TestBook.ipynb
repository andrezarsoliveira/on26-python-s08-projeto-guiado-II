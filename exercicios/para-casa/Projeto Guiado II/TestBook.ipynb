{
  "nbformat": 4,
  "nbformat_minor": 0,
  "metadata": {
    "colab": {
      "provenance": []
    },
    "kernelspec": {
      "name": "python3",
      "display_name": "Python 3"
    },
    "language_info": {
      "name": "python"
    }
  },
  "cells": [
    {
      "cell_type": "code",
      "source": [],
      "metadata": {
        "id": "HZ0ol3P2Hkxp"
      },
      "execution_count": null,
      "outputs": []
    },
    {
      "cell_type": "code",
      "execution_count": null,
      "metadata": {
        "id": "sU0taxfw9Ory"
      },
      "outputs": [],
      "source": [
        "from unittest import TestCase\n",
        "from Library import Library\n",
        "\n",
        "\n",
        "class testBook(TestCase):\n",
        "    def test_init_pass(self):\n",
        "\n",
        "        name = 'Siddhartha'\n",
        "        author = 'Hermann Hesse'\n",
        "\n",
        "\n",
        "        book = Book(name, author)\n",
        "\n",
        "\n",
        "        self.assertEqual(name, book.name)\n",
        "        self.assertEqual(author, book.author)\n",
        "        self.assertEqual(False, book.borrowed)"
      ]
    }
  ]
}