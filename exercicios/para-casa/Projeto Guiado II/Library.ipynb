{
  "nbformat": 4,
  "nbformat_minor": 0,
  "metadata": {
    "colab": {
      "provenance": []
    },
    "kernelspec": {
      "name": "python3",
      "display_name": "Python 3"
    },
    "language_info": {
      "name": "python"
    }
  },
  "cells": [
    {
      "cell_type": "code",
      "execution_count": null,
      "metadata": {
        "id": "2EETCSQKJjhu"
      },
      "outputs": [],
      "source": [
        "from Book import Book\n",
        "\n",
        "class Library:\n",
        "    def __init__(self):\n",
        "        self.books = []\n",
        "\n",
        "    def add_book(self, book: Book):\n",
        "        if (not isinstance(book, Book)):\n",
        "            raise TypeError(f\"Expected Book, received value {book} of type {type(book)}\")\n",
        "        self.books.append(book)\n",
        "\n",
        "    def show_books(self):\n",
        "       return self.books\n",
        "\n",
        "    def borrow_book(self, title):\n",
        "        for book in self.books:\n",
        "            if book.name == title and not book.borrowed:\n",
        "                book.borrowed = True\n",
        "\n",
        "    def remove_book(self, title):\n",
        "        for book in self.books:\n",
        "            if book.name == title:\n",
        "                self.books.remove(book)\n",
        "\n",
        "    def find_book(self, title):\n",
        "        message = \"Book not found.\"\n",
        "        for book in self.books:\n",
        "            if book.name == title:\n",
        "                message = book\n",
        "        return message\n",
        "\n",
        "    def return_livro(self, title):\n",
        "        message = \"Book not found.\"\n",
        "        for book in self.books:\n",
        "            if book.name == title:\n",
        "                book.borrowed = False\n",
        "                message = f\"Book returned: {book}\"\n",
        "        return message"
      ]
    }
  ]
}