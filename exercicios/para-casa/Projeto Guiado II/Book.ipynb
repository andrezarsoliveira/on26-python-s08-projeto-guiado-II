{
  "nbformat": 4,
  "nbformat_minor": 0,
  "metadata": {
    "colab": {
      "provenance": []
    },
    "kernelspec": {
      "name": "python3",
      "display_name": "Python 3"
    },
    "language_info": {
      "name": "python"
    }
  },
  "cells": [
    {
      "cell_type": "code",
      "execution_count": null,
      "metadata": {
        "id": "kWQndQRb5jbw"
      },
      "outputs": [],
      "source": [
        "class Book:\n",
        "    def __init__(self, name, author):\n",
        "        self.name = name\n",
        "        self.author = author\n",
        "        self.book.borrowed = False"
      ]
    }
  ]
}